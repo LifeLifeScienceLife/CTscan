{
 "cells": [
  {
   "cell_type": "code",
   "execution_count": null,
   "metadata": {},
   "outputs": [],
   "source": [
    "# -*- coding: utf-8 -*-\n",
    "\"\"\"\n",
    "Created on Mon Dec  3 17:14:34 2018\n",
    "\n",
    "@author: elord\n",
    "\"\"\"\n",
    "import cv2\n",
    "import numpy as np\n",
    "from matplotlib import pyplot as plt\n"
   ]
  },
  {
   "cell_type": "code",
   "execution_count": null,
   "metadata": {},
   "outputs": [],
   "source": [
    "def main ():\n",
    "\t\n",
    "\twhile True:\n",
    "\t\tIntInput = int(input(\"What level do you want to threshold at? 0-255, or any key to exit\"))\n",
    "\t\timg2 = cv2.imread('Threshold test2.bmp',0)\n",
    "\t\tif IntInput > 0 and IntInput < 255:\n",
    "\t\t\tthresh6= cv2.GaussianBlur(img2,(5,5),0)\n",
    "\t\t\tret,thresh6 = cv2.threshold(img2,IntInput,255,cv2.THRESH_OTSU)\n",
    "\t\t\ttitles = ['Original', 'Thresholded']\n",
    "\t\t\timage = [img2, thresh6]\n",
    "\t\t\tfor i in range(2):\n",
    "\t\t\t\tplt.subplot(1,2,i+1),plt.imshow(image[i],'gray')\n",
    "\t\t\t\tplt.title(titles[i])\n",
    "\t\t\t\tplt.xticks([]),plt.yticks([])\n",
    "\t\t\tplt.show()\n",
    "\t\t\tSaveQ = input(\"Save? Y/N \")\n",
    "\t\t\tSaveFile(SaveQ)\n",
    "\t\telse:\n",
    "\t\t\tFalse\n",
    "\treturn"
   ]
  },
  {
   "cell_type": "code",
   "execution_count": null,
   "metadata": {},
   "outputs": [],
   "source": [
    "def SaveFile(SaveQ):\n",
    "\tprint(SaveQ)\n",
    "\t\"\"\"while True:\n",
    "\t\tx = input(\"Do you want to save this? yes/no -> \")\n",
    "\t\tif x == \"yes\":\n",
    "\t\t\tprint(\"congrats\")\n",
    "\t\t\treturn False\n",
    "\t\telse:\n",
    "\t\t\timport sys ; sys.exit(\"please start over\")\"\"\"\n",
    "\treturn"
   ]
  },
  {
   "cell_type": "code",
   "execution_count": null,
   "metadata": {},
   "outputs": [],
   "source": [
    "main ()"
   ]
  }
 ],
 "metadata": {
  "kernelspec": {
   "display_name": "Python 3",
   "language": "python",
   "name": "python3"
  },
  "language_info": {
   "codemirror_mode": {
    "name": "ipython",
    "version": 3
   },
   "file_extension": ".py",
   "mimetype": "text/x-python",
   "name": "python",
   "nbconvert_exporter": "python",
   "pygments_lexer": "ipython3",
   "version": "3.7.0"
  }
 },
 "nbformat": 4,
 "nbformat_minor": 2
}
